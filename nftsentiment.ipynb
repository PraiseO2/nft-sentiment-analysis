{
 "cells": [
  {
   "cell_type": "markdown",
   "metadata": {},
   "source": [
    "# NFT Authenticity and Prediction using Sentiment Analysis and Deep Learning"
   ]
  },
  {
   "cell_type": "markdown",
   "metadata": {},
   "source": [
    "## Imports"
   ]
  },
  {
   "cell_type": "code",
   "execution_count": 88,
   "metadata": {},
   "outputs": [],
   "source": [
    "import json\n",
    "import asyncio\n",
    "import tqdm\n",
    "import tqdm.asyncio\n",
    "import nest_asyncio\n",
    "import pandas as pd\n",
    "nest_asyncio.apply()\n",
    "import os\n",
    "from dotenv import load_dotenv\n",
    "load_dotenv()\n",
    "from pprint import pprint\n",
    "from datetime import datetime\n",
    "from dateutil.relativedelta import relativedelta\n",
    "from aiohttp import ClientSession, TCPConnector"
   ]
  },
  {
   "cell_type": "markdown",
   "metadata": {},
   "source": [
    "## Data Collection"
   ]
  },
  {
   "cell_type": "markdown",
   "metadata": {},
   "source": [
    "Sample Data"
   ]
  },
  {
   "cell_type": "code",
   "execution_count": 148,
   "metadata": {},
   "outputs": [],
   "source": [
    "sample_slugs = ['evolved-apes-inc','oraclenft','boredapeyachtclub','neo-tokyo-identities','cool-cats-nft','cryptopunks','veefriends']\n",
    "slug_date = {}\n"
   ]
  },
  {
   "cell_type": "markdown",
   "metadata": {},
   "source": [
    "### OpenSea Metrics from Collection Slugs"
   ]
  },
  {
   "cell_type": "markdown",
   "metadata": {},
   "source": [
    "Asynchronous Data Collection"
   ]
  },
  {
   "cell_type": "code",
   "execution_count": 164,
   "metadata": {},
   "outputs": [],
   "source": [
    "async def fetchData(url,session):\n",
    "    async with session.get(url) as response:\n",
    "        return await response.read()\n",
    "\n",
    "async def transactionScrape():\n",
    "    tasks = []\n",
    "    responses = []\n",
    "    connector = TCPConnector(limit_per_host=2)\n",
    "    url = \"https://api.opensea.io/api/v1/events?collection_slug={slug}&only_opensea=false&event_type=successful&limit=300&occurred_after={start}&occurred_before={end}\"\n",
    "    headers={\"Accept\": \"application/json\", \"X-API-KEY\": os.getenv('OPENSEA_API_KEY')}\n",
    "    async with ClientSession(connector=connector, headers=headers) as session:\n",
    "        for i in range(len(sample_slugs)):\n",
    "            start_date = datetime.fromisoformat(slug_date[sample_slugs[i]].split('T')[0])\n",
    "            end_date = start_date + relativedelta(months=1)\n",
    "            task = asyncio.ensure_future(fetchData(url.format(slug=sample_slugs[i],start=start_date.timestamp(), end=end_date.timestamp()),session))\n",
    "            tasks.append(task)\n",
    "        for f in tqdm.tqdm(asyncio.as_completed(tasks), total=len(tasks)):\n",
    "            responses.append(await f)\n",
    "    for response in responses:\n",
    "        response = json.loads(response.decode('utf8'))\n",
    "        try:\n",
    "            pprint(response['asset_events'][0]['collection_slug'])\n",
    "            total_price = 0\n",
    "            for event in response['asset_events']:\n",
    "                total_price += float(event['total_price'])/1000000000000000000\n",
    "            average_price = total_price/len(response['asset_events'])\n",
    "            pprint(f'Average 1 month after mint price: {average_price}')  #OPENSEA API LIMITS EVENTS TO 300 SO REALLY ITS THE LAST 300 TRANSACTIONS IN THE MONTH\n",
    "        except:\n",
    "            print(response)\n",
    "\n",
    "async def collectionScrape():\n",
    "    tasks = []\n",
    "    responses = []\n",
    "    connector = TCPConnector()\n",
    "    url = \"https://api.opensea.io/api/v1/collection/{}\"\n",
    "    async with ClientSession(connector=connector) as session:\n",
    "        for i in range(len(sample_slugs)):\n",
    "            task = asyncio.ensure_future(fetchData(url.format(sample_slugs[i]),session))\n",
    "            tasks.append(task)\n",
    "        for f in tqdm.tqdm(asyncio.as_completed(tasks), total=len(tasks)):\n",
    "            responses.append(await f)\n",
    "    for response in responses:\n",
    "        response = json.loads(response.decode('utf8'))\n",
    "        try:\n",
    "            name = response['collection']['name']\n",
    "            floor = response['collection']['stats']['floor_price']\n",
    "            volume = response['collection']['stats']['total_volume']\n",
    "            date_created = response['collection']['created_date']\n",
    "            slug_date[response['collection']['slug']] = date_created\n",
    "            print(f'{name}: Floor: {floor}ETH --- Total Volume: {volume}ETH --- Created {date_created}')\n",
    "        except:\n",
    "            print(response)\n"
   ]
  },
  {
   "cell_type": "markdown",
   "metadata": {},
   "source": [
    "Run Collection Script"
   ]
  },
  {
   "cell_type": "code",
   "execution_count": 149,
   "metadata": {},
   "outputs": [
    {
     "name": "stderr",
     "output_type": "stream",
     "text": [
      "100%|██████████| 7/7 [00:00<00:00, 26.03it/s]"
     ]
    },
    {
     "name": "stdout",
     "output_type": "stream",
     "text": [
      "CryptoPunks: Floor: NoneETH --- Total Volume: 730031.9212492915ETH --- Created 2019-04-26T22:13:09.691572\n",
      "Neo Tokyo Identities: Floor: 16.0ETH --- Total Volume: 11015.147364958138ETH --- Created 2021-10-04T15:14:32.376341\n",
      "Cool Cats NFT: Floor: 6.99ETH --- Total Volume: 58695.75946848873ETH --- Created 2021-06-27T09:03:35.403074\n",
      "VeeFriends: Floor: 8.39ETH --- Total Volume: 31968.70620255153ETH --- Created 2021-05-11T18:22:19.398578\n",
      "Bored Ape Yacht Club: Floor: 50.69ETH --- Total Volume: 246279.89621350318ETH --- Created 2021-04-22T23:14:03.967121\n",
      "Oracle (official): Floor: 0.0ETH --- Total Volume: 27.59212000000001ETH --- Created 2021-09-22T10:53:26.948567\n",
      "Evolved Apes Inc: Floor: 0.0009ETH --- Total Volume: 1155.88726411926ETH --- Created 2021-09-23T12:30:03.410309\n"
     ]
    },
    {
     "name": "stderr",
     "output_type": "stream",
     "text": [
      "\n"
     ]
    }
   ],
   "source": [
    "loop = asyncio.get_event_loop()\n",
    "future = asyncio.ensure_future(collectionScrape())\n",
    "loop.run_until_complete(future)"
   ]
  },
  {
   "cell_type": "code",
   "execution_count": 166,
   "metadata": {},
   "outputs": [
    {
     "name": "stderr",
     "output_type": "stream",
     "text": [
      "100%|██████████| 7/7 [00:03<00:00,  1.75it/s]\n"
     ]
    },
    {
     "name": "stdout",
     "output_type": "stream",
     "text": [
      "'evolved-apes-inc'\n",
      "'Average 1 month after mint price: 0.018939976401812286'\n",
      "'oraclenft'\n",
      "'Average 1 month after mint price: 0.04743173333333336'\n",
      "'boredapeyachtclub'\n",
      "'Average 1 month after mint price: 0.5512016432206388'\n",
      "'cool-cats-nft'\n",
      "'Average 1 month after mint price: 0.7231994174796048'\n",
      "'neo-tokyo-identities'\n",
      "'Average 1 month after mint price: 11.5224924328882'\n",
      "'veefriends'\n",
      "'Average 1 month after mint price: 5.033078654164987'\n",
      "'cryptopunks'\n",
      "'Average 1 month after mint price: 0.5936562130177515'\n"
     ]
    }
   ],
   "source": [
    "loop = asyncio.get_event_loop()\n",
    "future = asyncio.ensure_future(transactionScrape())\n",
    "loop.run_until_complete(future)"
   ]
  }
 ],
 "metadata": {
  "interpreter": {
   "hash": "916dbcbb3f70747c44a77c7bcd40155683ae19c65e1c03b4aa3499c5328201f1"
  },
  "kernelspec": {
   "display_name": "Python 3.8.10 64-bit",
   "language": "python",
   "name": "python3"
  },
  "language_info": {
   "codemirror_mode": {
    "name": "ipython",
    "version": 3
   },
   "file_extension": ".py",
   "mimetype": "text/x-python",
   "name": "python",
   "nbconvert_exporter": "python",
   "pygments_lexer": "ipython3",
   "version": "3.8.10"
  },
  "orig_nbformat": 4
 },
 "nbformat": 4,
 "nbformat_minor": 2
}
