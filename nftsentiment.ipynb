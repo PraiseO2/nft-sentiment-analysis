{
 "cells": [
  {
   "cell_type": "markdown",
   "metadata": {},
   "source": [
    "# NFT Authenticity and Prediction using Sentiment Analysis and Deep Learning"
   ]
  },
  {
   "cell_type": "markdown",
   "metadata": {},
   "source": [
    "## Imports"
   ]
  },
  {
   "cell_type": "code",
   "execution_count": 12,
   "metadata": {},
   "outputs": [],
   "source": [
    "import requests,json\n",
    "import random\n",
    "import asyncio\n",
    "import time\n",
    "import tqdm\n",
    "import tqdm.asyncio\n",
    "import nest_asyncio\n",
    "nest_asyncio.apply()\n",
    "from pprint import pprint\n",
    "from aiohttp import ClientSession, TCPConnector"
   ]
  },
  {
   "cell_type": "markdown",
   "metadata": {},
   "source": [
    "## Data Collection"
   ]
  },
  {
   "cell_type": "markdown",
   "metadata": {},
   "source": [
    "Sample Data"
   ]
  },
  {
   "cell_type": "code",
   "execution_count": 9,
   "metadata": {},
   "outputs": [],
   "source": [
    "sample_addresses = ['evolved-apes-inc','oraclenft','boredapeyachtclub','neo-tokyo-identities','cool-cats-nft','cryptopunks','veefriends']"
   ]
  },
  {
   "cell_type": "markdown",
   "metadata": {},
   "source": [
    "### OpenSea Metrics from Contract Addresses"
   ]
  },
  {
   "cell_type": "markdown",
   "metadata": {},
   "source": [
    "Asynchronous Data Collection"
   ]
  },
  {
   "cell_type": "code",
   "execution_count": 38,
   "metadata": {},
   "outputs": [],
   "source": [
    "async def fetchData(url,session):\n",
    "    async with session.get(url) as response:\n",
    "        return await response.read()\n",
    "\n",
    "async def run():\n",
    "    tasks = []\n",
    "    connector = TCPConnector()\n",
    "    url = \"https://api.opensea.io/api/v1/collection/{}\"\n",
    "    async with ClientSession(connector=connector) as session:\n",
    "        for i in range(len(sample_addresses)):\n",
    "            task = asyncio.ensure_future(fetchData(url.format(sample_addresses[i]),session))\n",
    "            tasks.append(task)\n",
    "        responses = []\n",
    "        for f in tqdm.tqdm(asyncio.as_completed(tasks), total=len(tasks)):\n",
    "            responses.append(await f)\n",
    "        for response in responses:\n",
    "            response = json.loads(response.decode('utf8'))\n",
    "            name = response['collection']['name']\n",
    "            floor = response['collection']['stats']['floor_price']\n",
    "            volume = response['collection']['stats']['total_volume']\n",
    "            pprint(f'{name}: Floor: {floor}ETH --- Total Volume: {volume}ETH')\n"
   ]
  },
  {
   "cell_type": "markdown",
   "metadata": {},
   "source": [
    "Run Script"
   ]
  },
  {
   "cell_type": "code",
   "execution_count": 39,
   "metadata": {},
   "outputs": [
    {
     "name": "stderr",
     "output_type": "stream",
     "text": [
      "100%|██████████| 7/7 [00:00<00:00, 19.23it/s]"
     ]
    },
    {
     "name": "stdout",
     "output_type": "stream",
     "text": [
      "'Cool Cats NFT: Floor: 7.0ETH --- Total Volume: 58545.89960225042ETH'\n",
      "'VeeFriends: Floor: 8.35ETH --- Total Volume: 31773.048003191412ETH'\n",
      "'Neo Tokyo Identities: Floor: 16.8ETH --- Total Volume: 10899.947364958138ETH'\n",
      "'Bored Ape Yacht Club: Floor: 49.269ETH --- Total Volume: 245005.89893046283ETH'\n",
      "'Evolved Apes Inc: Floor: 0.0011ETH --- Total Volume: 1155.887264119253ETH'\n",
      "'Oracle (official): Floor: 0.0ETH --- Total Volume: 27.592120000000005ETH'\n",
      "'CryptoPunks: Floor: NoneETH --- Total Volume: 728905.0712493036ETH'\n"
     ]
    },
    {
     "name": "stderr",
     "output_type": "stream",
     "text": [
      "\n"
     ]
    }
   ],
   "source": [
    "loop = asyncio.get_event_loop()\n",
    "future = asyncio.ensure_future(run())\n",
    "loop.run_until_complete(future)"
   ]
  }
 ],
 "metadata": {
  "interpreter": {
   "hash": "916dbcbb3f70747c44a77c7bcd40155683ae19c65e1c03b4aa3499c5328201f1"
  },
  "kernelspec": {
   "display_name": "Python 3.8.10 64-bit",
   "language": "python",
   "name": "python3"
  },
  "language_info": {
   "codemirror_mode": {
    "name": "ipython",
    "version": 3
   },
   "file_extension": ".py",
   "mimetype": "text/x-python",
   "name": "python",
   "nbconvert_exporter": "python",
   "pygments_lexer": "ipython3",
   "version": "3.8.10"
  },
  "orig_nbformat": 4
 },
 "nbformat": 4,
 "nbformat_minor": 2
}
