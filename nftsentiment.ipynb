{
 "cells": [
  {
   "cell_type": "markdown",
   "metadata": {},
   "source": [
    "# NFT Authenticity and Prediction using Sentiment Analysis and Deep Learning"
   ]
  },
  {
   "cell_type": "markdown",
   "metadata": {},
   "source": [
    "## Imports"
   ]
  },
  {
   "cell_type": "code",
   "execution_count": null,
   "metadata": {},
   "outputs": [],
   "source": [
    "import json\n",
    "import asyncio\n",
    "import tqdm\n",
    "import tqdm.asyncio\n",
    "import nest_asyncio\n",
    "from sklearn.naive_bayes import GaussianNB\n",
    "from sklearn import svm, metrics, preprocessing\n",
    "from sklearn.model_selection import cross_val_score, train_test_split\n",
    "from tensorflow.keras import Sequential\n",
    "from tensorflow.keras.layers import Dense\n",
    "from tensorflow.keras.layers import Dropout\n",
    "import pandas as pd\n",
    "nest_asyncio.apply()\n",
    "import os\n",
    "from dotenv import load_dotenv\n",
    "load_dotenv()\n",
    "from pprint import pprint\n",
    "from datetime import datetime\n",
    "from dateutil.relativedelta import relativedelta\n",
    "from aiohttp import ClientSession, TCPConnector\n",
    "from matplotlib import pyplot\n",
    "import tweepy"
   ]
  },
  {
   "cell_type": "markdown",
   "metadata": {},
   "source": [
    "## Data Collection"
   ]
  },
  {
   "cell_type": "markdown",
   "metadata": {},
   "source": [
    "Get Project List Data"
   ]
  },
  {
   "cell_type": "code",
   "execution_count": null,
   "metadata": {},
   "outputs": [],
   "source": [
    "df = pd.read_csv(\"collections_2.csv\")\n",
    "sample_slugs = df['slug'].values\n",
    "slug_date = {}\n",
    "slug_price = {}"
   ]
  },
  {
   "cell_type": "markdown",
   "metadata": {},
   "source": [
    "### OpenSea Metrics from Collection Slugs"
   ]
  },
  {
   "cell_type": "markdown",
   "metadata": {},
   "source": [
    "Asynchronous Data Collection"
   ]
  },
  {
   "cell_type": "code",
   "execution_count": null,
   "metadata": {},
   "outputs": [],
   "source": [
    "async def fetchData(url,session):\n",
    "    async with session.get(url) as response:\n",
    "        try:\n",
    "            response = await response.read()\n",
    "            assert 'detail' not in json.loads(response.decode('UTF-8'))\n",
    "            return response\n",
    "        except:\n",
    "            await asyncio.sleep(5)\n",
    "            return await fetchData(url,session)\n",
    "\n",
    "async def transactionScrape():\n",
    "    tasks = []\n",
    "    responses = []\n",
    "    connector = TCPConnector(limit_per_host=1)\n",
    "    url = \"https://api.opensea.io/api/v1/events?collection_slug={slug}&only_opensea=false&event_type=successful&limit=300&occurred_after={start}&occurred_before={end}\"\n",
    "    headers={\"Accept\": \"application/json\", \"X-API-KEY\": os.getenv('OPENSEA_API_KEY')}\n",
    "    async with ClientSession(connector=connector, headers=headers) as session:\n",
    "        for i in range(len(sample_slugs)):\n",
    "            start_date = datetime.fromisoformat(slug_date[sample_slugs[i]].split('T')[0]) - relativedelta(days=1)\n",
    "            for j in range(14):\n",
    "                start_date = start_date + relativedelta(days=1)\n",
    "                end_date = start_date + relativedelta(days=1) \n",
    "                task = asyncio.ensure_future(fetchData(url.format(slug=sample_slugs[i],start=start_date.timestamp(), end=end_date.timestamp()),session))\n",
    "                tasks.append(task)\n",
    "        for f in tqdm.tqdm(asyncio.as_completed(tasks), total=len(tasks)):\n",
    "            responses.append(await f)\n",
    "    for response in responses:\n",
    "        response = json.loads(response.decode('utf8'))\n",
    "        try:\n",
    "            collection_slug = response['asset_events'][0]['collection_slug'] \n",
    "            for event in response['asset_events']:\n",
    "                slug_price[collection_slug]['total_volume'] += float(event['total_price'])/1000000000000000000\n",
    "                slug_price[collection_slug]['num_transactions'] += 1\n",
    "        except:\n",
    "            pass\n",
    "\n",
    "async def collectionScrape():\n",
    "    tasks = []\n",
    "    responses = []\n",
    "    connector = TCPConnector()\n",
    "    url = \"https://api.opensea.io/api/v1/collection/{}\"\n",
    "    async with ClientSession(connector=connector) as session:\n",
    "        for i in range(len(sample_slugs)):\n",
    "            task = asyncio.ensure_future(fetchData(url.format(sample_slugs[i]),session))\n",
    "            tasks.append(task)\n",
    "        for f in tqdm.tqdm(asyncio.as_completed(tasks), total=len(tasks)):\n",
    "            responses.append(await f)\n",
    "    for response in responses:\n",
    "        response = json.loads(response.decode('utf8'))\n",
    "        collection = response['collection']\n",
    "        name = collection['name']\n",
    "        floor = collection['stats']['floor_price']\n",
    "        volume = collection['stats']['total_volume']\n",
    "        date_created = collection['created_date']\n",
    "        slug_date[collection['slug']] = date_created\n",
    "        slug_price[collection['slug']] = {'total_volume' : 0, 'num_transactions': 0 }\n",
    "        print(f'{name}: Floor: {floor}ETH --- Total Volume: {volume}ETH --- Created {date_created}')\n"
   ]
  },
  {
   "cell_type": "markdown",
   "metadata": {},
   "source": [
    "Run Collection Script"
   ]
  },
  {
   "cell_type": "code",
   "execution_count": null,
   "metadata": {},
   "outputs": [],
   "source": [
    "loop = asyncio.get_event_loop()\n",
    "future = asyncio.ensure_future(collectionScrape())\n",
    "loop.run_until_complete(future)"
   ]
  },
  {
   "cell_type": "markdown",
   "metadata": {},
   "source": [
    "Run Transaction Collections"
   ]
  },
  {
   "cell_type": "code",
   "execution_count": null,
   "metadata": {},
   "outputs": [],
   "source": [
    "loop = asyncio.get_event_loop()\n",
    "future = asyncio.ensure_future(transactionScrape())\n",
    "loop.run_until_complete(future)"
   ]
  },
  {
   "cell_type": "markdown",
   "metadata": {},
   "source": [
    "Feature Extraction and Writing to Features File"
   ]
  },
  {
   "cell_type": "code",
   "execution_count": null,
   "metadata": {},
   "outputs": [],
   "source": [
    "df['volume'] = df['slug'].apply(lambda x: slug_price[x]['total_volume'])\n",
    "df['transaction_count'] = df['slug'].apply(lambda x: slug_price[x]['num_transactions'])\n",
    "df['average_sale'] = df['slug'].apply(lambda x: slug_price[x]['total_volume'] / slug_price[x]['num_transactions'])\n",
    "df.to_csv('features.csv', mode='a', index=False, header=False)"
   ]
  },
  {
   "cell_type": "markdown",
   "metadata": {},
   "source": [
    "### Twitter Historical Tweet Collection"
   ]
  },
  {
   "cell_type": "markdown",
   "metadata": {},
   "source": [
    "Get Authorization Credentials"
   ]
  },
  {
   "cell_type": "code",
   "execution_count": 193,
   "metadata": {},
   "outputs": [],
   "source": [
    "consumer_key = os.getenv('CONSUMER_KEY')\n",
    "consumer_secret = os.getenv('CONSUMER_SECRET')\n",
    "access_token = os.getenv('ACCESS_TOKEN')\n",
    "access_token_secret = os.getenv('ACCESS_TOKEN_SECRET')"
   ]
  },
  {
   "cell_type": "markdown",
   "metadata": {},
   "source": [
    "Configure Tweepy"
   ]
  },
  {
   "cell_type": "code",
   "execution_count": 194,
   "metadata": {},
   "outputs": [],
   "source": [
    "auth = tweepy.OAuthHandler(consumer_key, consumer_secret)\n",
    "auth.set_access_token(access_token, access_token_secret)\n",
    "\n",
    "api = tweepy.API(auth)"
   ]
  },
  {
   "cell_type": "markdown",
   "metadata": {},
   "source": [
    "Read in the Projects List"
   ]
  },
  {
   "cell_type": "code",
   "execution_count": 195,
   "metadata": {},
   "outputs": [
    {
     "name": "stdout",
     "output_type": "stream",
     "text": [
      "0       Bored Ape Yacht Club\n",
      "1           Evolved Apes NFT\n",
      "2                 Oracle NFT\n",
      "3       Neo Tokyo Identities\n",
      "4              Cool Cats NFT\n",
      "5             Hype Hippo NFT\n",
      "6             Veefriends NFT\n",
      "7            The Sandbox NFT\n",
      "8                 Apymon NFT\n",
      "9             CyberKongz NFT\n",
      "10               Meebits NFT\n",
      "11        World of Women NFT\n",
      "12     Mutant Human Club NFT\n",
      "13        The Doge Pound NFT\n",
      "14        Creature World NFT\n",
      "15         Angry Anglers NFT\n",
      "16                CloneX NFT\n",
      "17               Doodles NFT\n",
      "18      Panda Golf Squad NFT\n",
      "19        Pepsi Mic Drop NFT\n",
      "20         Miss Universe NFT\n",
      "21    CryptoBull Society NFT\n",
      "22      Chromie Squiggle NFT\n",
      "23    Farmer Apes (FAYC) NFT\n",
      "24          Jadu Jetpack NFT\n",
      "25            Lazy Lions NFT\n",
      "26          CryptoVoxels NFT\n",
      "27           Doge Battle NFT\n",
      "Name: name, dtype: object\n"
     ]
    }
   ],
   "source": [
    "collections = pd.read_csv(\"collections.csv\")[\"name\"]\n",
    "print(collections)"
   ]
  },
  {
   "cell_type": "code",
   "execution_count": 197,
   "metadata": {},
   "outputs": [
    {
     "name": "stdout",
     "output_type": "stream",
     "text": [
      "0                0xVampire NFT\n",
      "1                Thingdoms NFT\n",
      "2        Frogs in Disguise NFT\n",
      "3     The Pirate Panda Bay NFT\n",
      "4                 ApePunks NFT\n",
      "5                   Slotie NFT\n",
      "6             Trippy Clone NFT\n",
      "7            Wild Ape Gang NFT\n",
      "8            Gambling Apes NFT\n",
      "9         Adidas Originals NFT\n",
      "10               Cryptoadz NFT\n",
      "11                FPS Loot NFT\n",
      "Name: name, dtype: object\n"
     ]
    }
   ],
   "source": [
    "collections_2 = pd.read_csv(\"collections_2.csv\")[\"name\"]\n",
    "print(collections_2)"
   ]
  },
  {
   "cell_type": "markdown",
   "metadata": {},
   "source": [
    "Tweet Collection Script"
   ]
  },
  {
   "cell_type": "code",
   "execution_count": 198,
   "metadata": {},
   "outputs": [],
   "source": [
    "def get_tweets(proj):\n",
    "    filename = \"./data/\" + \"_\".join(proj.split(\" \")) + \".csv\"\n",
    "    print(\"Collecting tweets for:\", proj)\n",
    "    print(\"Writing results to\", filename)\n",
    "\n",
    "    resp = api.search_full_archive(\"prod\", proj)\n",
    "\n",
    "    tweets = []\n",
    "    timestamps = []\n",
    "\n",
    "    for status in resp:\n",
    "        tweets.append(status.text)\n",
    "        timestamps.append(status.created_at)\n",
    "\n",
    "    df = pd.DataFrame({\n",
    "            \"tweets\": pd.Series(tweets),\n",
    "            \"timestamps\": pd.Series(timestamps)\n",
    "            })\n",
    "\n",
    "    df.to_csv(filename)"
   ]
  },
  {
   "cell_type": "markdown",
   "metadata": {},
   "source": [
    "Run Tweet Collection Script"
   ]
  },
  {
   "cell_type": "code",
   "execution_count": null,
   "metadata": {},
   "outputs": [],
   "source": [
    "for proj in collections:\n",
    "    get_tweets(proj)"
   ]
  },
  {
   "cell_type": "code",
   "execution_count": 199,
   "metadata": {},
   "outputs": [
    {
     "name": "stdout",
     "output_type": "stream",
     "text": [
      "Collecting tweets for: 0xVampire NFT\n",
      "Writing results to ./data/0xVampire_NFT.csv\n",
      "Collecting tweets for: Thingdoms NFT\n",
      "Writing results to ./data/Thingdoms_NFT.csv\n",
      "Collecting tweets for: Frogs in Disguise NFT\n",
      "Writing results to ./data/Frogs_in_Disguise_NFT.csv\n",
      "Collecting tweets for: The Pirate Panda Bay NFT\n",
      "Writing results to ./data/The_Pirate_Panda_Bay_NFT.csv\n",
      "Collecting tweets for: ApePunks NFT\n",
      "Writing results to ./data/ApePunks_NFT.csv\n",
      "Collecting tweets for: Slotie NFT\n",
      "Writing results to ./data/Slotie_NFT.csv\n",
      "Collecting tweets for: Trippy Clone NFT\n",
      "Writing results to ./data/Trippy_Clone_NFT.csv\n",
      "Collecting tweets for: Wild Ape Gang NFT\n",
      "Writing results to ./data/Wild_Ape_Gang_NFT.csv\n",
      "Collecting tweets for: Gambling Apes NFT\n",
      "Writing results to ./data/Gambling_Apes_NFT.csv\n",
      "Collecting tweets for: Adidas Originals NFT\n",
      "Writing results to ./data/Adidas_Originals_NFT.csv\n",
      "Collecting tweets for: Cryptoadz NFT\n",
      "Writing results to ./data/Cryptoadz_NFT.csv\n",
      "Collecting tweets for: FPS Loot NFT\n",
      "Writing results to ./data/FPS_Loot_NFT.csv\n"
     ]
    }
   ],
   "source": [
    "for proj in collections_2:\n",
    "    get_tweets(proj)"
   ]
  },
  {
   "cell_type": "markdown",
   "metadata": {},
   "source": [
    "## Use sentiment analysis to encode tweets"
   ]
  },
  {
   "cell_type": "code",
   "execution_count": null,
   "metadata": {},
   "outputs": [],
   "source": [
    "# FUNCTION TO PREPROCESS DATA"
   ]
  },
  {
   "cell_type": "code",
   "execution_count": 200,
   "metadata": {},
   "outputs": [],
   "source": [
    "from vaderSentiment.vaderSentiment import SentimentIntensityAnalyzer\n",
    "import numpy as np"
   ]
  },
  {
   "cell_type": "code",
   "execution_count": 201,
   "metadata": {},
   "outputs": [],
   "source": [
    "def get_sentiment(tweets):\n",
    "    '''\n",
    "    Uses a VADER model to return the avg sentiment for a collection of tweets\n",
    "    '''\n",
    "    analyzer = SentimentIntensityAnalyzer()\n",
    "    \n",
    "    all_scores = [0, 0, 0]\n",
    "    for tweet in tweets:\n",
    "        score = analyzer.polarity_scores(tweet)\n",
    "        \n",
    "        all_scores.append(np.array([score['neg'], score['neu'], score['pos']]))\n",
    "    \n",
    "    return np.array(all_scores).mean(axis=0)"
   ]
  },
  {
   "cell_type": "code",
   "execution_count": 202,
   "metadata": {},
   "outputs": [],
   "source": [
    "import time\n",
    "import calendar\n",
    "\n",
    "def get_volume_metric(timestamps):\n",
    "    '''\n",
    "    Function to compute the standard deviation of a series of timestamps\n",
    "    this is meant to act as a metric for volume\n",
    "    in practice this is an imperfect metric because it is heavily reliant upon twitter's api. \n",
    "    we were not able to get a premium license so our data was limited\n",
    "    '''\n",
    "    distances = []\n",
    "    for t in timestamps:\n",
    "        # get the number of seconds since the epoch\n",
    "        distances.append(calendar.timegm(time.strptime(t, \"%Y-%m-%d %H:%M:%S+00:00\")))\n",
    "    return pd.Series(distances).std()"
   ]
  },
  {
   "cell_type": "markdown",
   "metadata": {},
   "source": [
    "### Add sentiment encodings to feature dataframe"
   ]
  },
  {
   "cell_type": "code",
   "execution_count": 203,
   "metadata": {},
   "outputs": [
    {
     "name": "stdout",
     "output_type": "stream",
     "text": [
      "Analyzing tweets for Bored Ape Yacht Club\n",
      "Analyzing tweets for Evolved Apes NFT\n",
      "Analyzing tweets for Oracle NFT\n",
      "Analyzing tweets for Neo Tokyo Identities\n",
      "Analyzing tweets for Cool Cats NFT\n"
     ]
    },
    {
     "name": "stderr",
     "output_type": "stream",
     "text": [
      "/Library/Frameworks/Python.framework/Versions/3.7/lib/python3.7/site-packages/ipykernel_launcher.py:13: VisibleDeprecationWarning: Creating an ndarray from ragged nested sequences (which is a list-or-tuple of lists-or-tuples-or ndarrays with different lengths or shapes) is deprecated. If you meant to do this, you must specify 'dtype=object' when creating the ndarray\n",
      "  del sys.path[0]\n"
     ]
    },
    {
     "name": "stdout",
     "output_type": "stream",
     "text": [
      "Analyzing tweets for Hype Hippo NFT\n",
      "Analyzing tweets for Veefriends NFT\n",
      "Analyzing tweets for The Sandbox NFT\n",
      "Analyzing tweets for Apymon NFT\n",
      "Analyzing tweets for CyberKongz NFT\n",
      "Analyzing tweets for Meebits NFT\n",
      "Analyzing tweets for World of Women NFT\n",
      "Analyzing tweets for Mutant Human Club NFT\n",
      "Analyzing tweets for The Doge Pound NFT\n",
      "Analyzing tweets for Creature World NFT\n",
      "Analyzing tweets for Angry Anglers NFT\n",
      "Analyzing tweets for CloneX NFT\n",
      "Analyzing tweets for Doodles NFT\n",
      "Analyzing tweets for Panda Golf Squad NFT\n",
      "Analyzing tweets for Pepsi Mic Drop NFT\n",
      "Analyzing tweets for Miss Universe NFT\n",
      "Analyzing tweets for CryptoBull Society NFT\n",
      "Analyzing tweets for Chromie Squiggle NFT\n",
      "Analyzing tweets for Farmer Apes (FAYC) NFT\n",
      "Analyzing tweets for Jadu Jetpack NFT\n",
      "Analyzing tweets for Lazy Lions NFT\n",
      "Analyzing tweets for CryptoVoxels NFT\n",
      "Analyzing tweets for Doge Battle NFT\n",
      "Analyzing tweets for 0xVampire NFT\n",
      "Analyzing tweets for Thingdoms NFT\n",
      "Analyzing tweets for Frogs in Disguise NFT\n",
      "Analyzing tweets for The Pirate Panda Bay NFT\n",
      "Analyzing tweets for ApePunks NFT\n",
      "Analyzing tweets for Slotie NFT\n",
      "Analyzing tweets for Trippy Clone NFT\n",
      "Analyzing tweets for Wild Ape Gang NFT\n",
      "Analyzing tweets for Gambling Apes NFT\n",
      "Analyzing tweets for Adidas Originals NFT\n",
      "Analyzing tweets for Cryptoadz NFT\n",
      "Analyzing tweets for FPS Loot NFT\n"
     ]
    }
   ],
   "source": [
    "features = pd.read_csv(\"features.csv\")\n",
    "\n",
    "negative_scores = []\n",
    "neutral_scores = []\n",
    "positive_scores = []\n",
    "volume = []\n",
    "\n",
    "for proj in features[\"name\"]:\n",
    "    filename = \"./data/\" + \"_\".join(proj.split(\" \")) + \".csv\"\n",
    "    \n",
    "    tweet_data = pd.read_csv(filename)\n",
    "    \n",
    "    print(\"Analyzing tweets for\", proj)\n",
    "    scores = get_sentiment(tweet_data[\"tweets\"])\n",
    "    timestamp_deviation = get_volume_metric(tweet_data[\"timestamps\"])\n",
    "    \n",
    "    try:\n",
    "        negative_scores.append(scores[0])\n",
    "        neutral_scores.append(scores[1])\n",
    "        positive_scores.append(scores[2])\n",
    "    except Exception:\n",
    "        negative_scores.append(0)\n",
    "        neutral_scores.append(0)\n",
    "        positive_scores.append(0)\n",
    "        \n",
    "    if timestamp_deviation:\n",
    "        volume.append(timestamp_deviation)\n",
    "    else:\n",
    "        volume.append(0)\n",
    "        \n",
    "    \n",
    "features[\"negative_score\"] = pd.Series(negative_scores)\n",
    "features[\"neutral_score\"] = pd.Series(neutral_scores)\n",
    "features[\"positive_score\"] = pd.Series(positive_scores)\n",
    "features[\"tweet_volume\"] = pd.Series(volume)\n",
    "\n",
    "features.to_csv(\"features.csv\")"
   ]
  },
  {
   "cell_type": "code",
   "execution_count": 204,
   "metadata": {},
   "outputs": [
    {
     "data": {
      "text/html": [
       "<div>\n",
       "<style scoped>\n",
       "    .dataframe tbody tr th:only-of-type {\n",
       "        vertical-align: middle;\n",
       "    }\n",
       "\n",
       "    .dataframe tbody tr th {\n",
       "        vertical-align: top;\n",
       "    }\n",
       "\n",
       "    .dataframe thead th {\n",
       "        text-align: right;\n",
       "    }\n",
       "</style>\n",
       "<table border=\"1\" class=\"dataframe\">\n",
       "  <thead>\n",
       "    <tr style=\"text-align: right;\">\n",
       "      <th></th>\n",
       "      <th>name</th>\n",
       "      <th>slug</th>\n",
       "      <th>label</th>\n",
       "      <th>volume</th>\n",
       "      <th>transaction_count</th>\n",
       "      <th>average_sale</th>\n",
       "      <th>negative_score</th>\n",
       "      <th>neutral_score</th>\n",
       "      <th>positive_score</th>\n",
       "      <th>tweet_volume</th>\n",
       "    </tr>\n",
       "  </thead>\n",
       "  <tbody>\n",
       "    <tr>\n",
       "      <th>0</th>\n",
       "      <td>Bored Ape Yacht Club</td>\n",
       "      <td>boredapeyachtclub</td>\n",
       "      <td>0</td>\n",
       "      <td>1036.042150</td>\n",
       "      <td>1493</td>\n",
       "      <td>0.693933</td>\n",
       "      <td>0.063476</td>\n",
       "      <td>0.822583</td>\n",
       "      <td>0.084806</td>\n",
       "      <td>2847.771264</td>\n",
       "    </tr>\n",
       "    <tr>\n",
       "      <th>1</th>\n",
       "      <td>Evolved Apes NFT</td>\n",
       "      <td>evolved-apes-inc</td>\n",
       "      <td>1</td>\n",
       "      <td>359.169733</td>\n",
       "      <td>2968</td>\n",
       "      <td>0.121014</td>\n",
       "      <td>0.061631</td>\n",
       "      <td>0.831971</td>\n",
       "      <td>0.077282</td>\n",
       "      <td>522296.884735</td>\n",
       "    </tr>\n",
       "    <tr>\n",
       "      <th>2</th>\n",
       "      <td>Oracle NFT</td>\n",
       "      <td>oraclenft</td>\n",
       "      <td>1</td>\n",
       "      <td>20.559650</td>\n",
       "      <td>465</td>\n",
       "      <td>0.044214</td>\n",
       "      <td>0.000000</td>\n",
       "      <td>0.759282</td>\n",
       "      <td>0.211592</td>\n",
       "      <td>852.930276</td>\n",
       "    </tr>\n",
       "    <tr>\n",
       "      <th>3</th>\n",
       "      <td>Neo Tokyo Identities</td>\n",
       "      <td>neo-tokyo-identities</td>\n",
       "      <td>0</td>\n",
       "      <td>5044.550202</td>\n",
       "      <td>541</td>\n",
       "      <td>9.324492</td>\n",
       "      <td>0.006330</td>\n",
       "      <td>0.834175</td>\n",
       "      <td>0.130369</td>\n",
       "      <td>77811.283279</td>\n",
       "    </tr>\n",
       "    <tr>\n",
       "      <th>4</th>\n",
       "      <td>Cool Cats NFT</td>\n",
       "      <td>cool-cats-nft</td>\n",
       "      <td>0</td>\n",
       "      <td>1348.559469</td>\n",
       "      <td>3000</td>\n",
       "      <td>0.449520</td>\n",
       "      <td>0.032728</td>\n",
       "      <td>0.832126</td>\n",
       "      <td>0.106019</td>\n",
       "      <td>12129.480684</td>\n",
       "    </tr>\n",
       "  </tbody>\n",
       "</table>\n",
       "</div>"
      ],
      "text/plain": [
       "                   name                  slug  label       volume  \\\n",
       "0  Bored Ape Yacht Club     boredapeyachtclub      0  1036.042150   \n",
       "1      Evolved Apes NFT      evolved-apes-inc      1   359.169733   \n",
       "2            Oracle NFT             oraclenft      1    20.559650   \n",
       "3  Neo Tokyo Identities  neo-tokyo-identities      0  5044.550202   \n",
       "4         Cool Cats NFT         cool-cats-nft      0  1348.559469   \n",
       "\n",
       "   transaction_count  average_sale  negative_score  neutral_score  \\\n",
       "0               1493      0.693933        0.063476       0.822583   \n",
       "1               2968      0.121014        0.061631       0.831971   \n",
       "2                465      0.044214        0.000000       0.759282   \n",
       "3                541      9.324492        0.006330       0.834175   \n",
       "4               3000      0.449520        0.032728       0.832126   \n",
       "\n",
       "   positive_score   tweet_volume  \n",
       "0        0.084806    2847.771264  \n",
       "1        0.077282  522296.884735  \n",
       "2        0.211592     852.930276  \n",
       "3        0.130369   77811.283279  \n",
       "4        0.106019   12129.480684  "
      ]
     },
     "execution_count": 204,
     "metadata": {},
     "output_type": "execute_result"
    }
   ],
   "source": [
    "features.head()"
   ]
  },
  {
   "cell_type": "markdown",
   "metadata": {},
   "source": [
    "## Classification Models"
   ]
  },
  {
   "cell_type": "markdown",
   "metadata": {},
   "source": [
    "### Gaussian Naive Bayes"
   ]
  },
  {
   "cell_type": "code",
   "execution_count": 205,
   "metadata": {},
   "outputs": [],
   "source": [
    "def predictNB(x_train, x_test, y_train, y_test):\n",
    "    gnb = GaussianNB()\n",
    "    y_pred = gnb.fit(x_train, y_train).predict(x_test)\n",
    "    return metrics.accuracy_score(y_test, y_pred)"
   ]
  },
  {
   "cell_type": "markdown",
   "metadata": {},
   "source": [
    "### Support Vector Machine (SVM)"
   ]
  },
  {
   "cell_type": "code",
   "execution_count": 206,
   "metadata": {},
   "outputs": [],
   "source": [
    "def predictSVM(x_train, x_test, y_train, y_test):\n",
    "    model = svm.SVC()\n",
    "    model.fit(x_train,y_train)\n",
    "    y_pred = model.predict(x_test)\n",
    "    return metrics.accuracy_score(y_test, y_pred)"
   ]
  },
  {
   "cell_type": "markdown",
   "metadata": {},
   "source": [
    "### Multilayer Perceptron (MLP)"
   ]
  },
  {
   "cell_type": "code",
   "execution_count": 207,
   "metadata": {},
   "outputs": [],
   "source": [
    "def predictMLP(x_train, x_test, y_train, y_test):\n",
    "    n_features = x_train.shape[1]\n",
    "    model = Sequential()\n",
    "    model.add(Dense(20, activation='relu', kernel_initializer='he_normal', input_shape=(n_features,)))\n",
    "    model.add(Dropout(0.5))\n",
    "    model.add(Dense(20, activation='relu', kernel_initializer='he_normal'))\n",
    "    model.add(Dropout(0.5))\n",
    "    model.add(Dense(20, activation='relu', kernel_initializer='he_normal'))\n",
    "    model.add(Dropout(0.5))\n",
    "    model.add(Dense(5, activation='relu', kernel_initializer='he_normal'))\n",
    "    model.add(Dropout(0.5))\n",
    "    model.add(Dense(1, activation='sigmoid'))\n",
    "    model.compile(optimizer='adam', loss='binary_crossentropy', metrics=['accuracy'])\n",
    "    history = model.fit(x_train, y_train, epochs=1000, batch_size=8, verbose=0)\n",
    "    pyplot.title('Learning Curve')\n",
    "    pyplot.xlabel('Epoch')\n",
    "    pyplot.ylabel('Binary Cross Entropy')\n",
    "    pyplot.plot(history.history['loss'], label='train')\n",
    "    pyplot.legend()\n",
    "    pyplot.show()   \n",
    "    loss, acc = model.evaluate(x_test, y_test, verbose=0)\n",
    "    return acc\n"
   ]
  },
  {
   "cell_type": "markdown",
   "metadata": {},
   "source": [
    "## Data Preprocessing"
   ]
  },
  {
   "cell_type": "markdown",
   "metadata": {},
   "source": [
    "We will create different training sets using text features only, price features only, and a combination of price and text features."
   ]
  },
  {
   "cell_type": "markdown",
   "metadata": {},
   "source": [
    "### Extract Features and Labels"
   ]
  },
  {
   "cell_type": "code",
   "execution_count": 208,
   "metadata": {},
   "outputs": [],
   "source": [
    "dataset = pd.read_csv(\"features.csv\").fillna(0)\n",
    "\n",
    "x_data_price = dataset[['transaction_count', 'volume', 'average_sale']]\n",
    "x_data_text = dataset[['negative_score','neutral_score','positive_score','tweet_volume']]\n",
    "x_data_combined = dataset[['transaction_count', 'volume', 'average_sale','negative_score','neutral_score','positive_score','tweet_volume']]\n",
    "\n",
    "y_data = dataset['label']"
   ]
  },
  {
   "cell_type": "markdown",
   "metadata": {},
   "source": [
    "### Split Data into Testing and Training"
   ]
  },
  {
   "cell_type": "code",
   "execution_count": 209,
   "metadata": {},
   "outputs": [],
   "source": [
    "x_train_price, x_test_price, y_train_price, y_test_price = train_test_split(x_data_price, y_data ,test_size = 0.2)\n",
    "\n",
    "x_train_text, x_test_text, y_train_text, y_test_text = train_test_split(x_data_text, y_data ,test_size = 0.2)\n",
    "\n",
    "x_train_combined, x_test_combined, y_train_combined, y_test_combined = train_test_split(x_data_combined, y_data ,test_size = 0.2)"
   ]
  },
  {
   "cell_type": "markdown",
   "metadata": {},
   "source": [
    "### Standardize The Features"
   ]
  },
  {
   "cell_type": "code",
   "execution_count": 210,
   "metadata": {},
   "outputs": [],
   "source": [
    "scaler = preprocessing.StandardScaler().fit(x_train_price)\n",
    "x_train_scaled_price = scaler.transform(x_train_price)\n",
    "\n",
    "scaler = preprocessing.StandardScaler().fit(x_test_price)\n",
    "x_test_scaled_price = scaler.transform(x_test_price)\n",
    "\n",
    "scaler = preprocessing.StandardScaler().fit(x_train_text)\n",
    "x_train_scaled_text = scaler.transform(x_train_text)\n",
    "\n",
    "scaler = preprocessing.StandardScaler().fit(x_test_text)\n",
    "x_test_scaled_text = scaler.transform(x_test_text)\n",
    "\n",
    "scaler = preprocessing.StandardScaler().fit(x_train_combined)\n",
    "x_train_scaled_combined = scaler.transform(x_train_combined)\n",
    "\n",
    "scaler = preprocessing.StandardScaler().fit(x_test_combined)\n",
    "x_test_scaled_combined = scaler.transform(x_test_combined)"
   ]
  },
  {
   "cell_type": "markdown",
   "metadata": {},
   "source": [
    "### Preview the data"
   ]
  },
  {
   "cell_type": "code",
   "execution_count": 211,
   "metadata": {},
   "outputs": [
    {
     "data": {
      "text/html": [
       "<div>\n",
       "<style scoped>\n",
       "    .dataframe tbody tr th:only-of-type {\n",
       "        vertical-align: middle;\n",
       "    }\n",
       "\n",
       "    .dataframe tbody tr th {\n",
       "        vertical-align: top;\n",
       "    }\n",
       "\n",
       "    .dataframe thead th {\n",
       "        text-align: right;\n",
       "    }\n",
       "</style>\n",
       "<table border=\"1\" class=\"dataframe\">\n",
       "  <thead>\n",
       "    <tr style=\"text-align: right;\">\n",
       "      <th></th>\n",
       "      <th>transaction_count</th>\n",
       "      <th>volume</th>\n",
       "      <th>average_sale</th>\n",
       "      <th>negative_score</th>\n",
       "      <th>neutral_score</th>\n",
       "      <th>positive_score</th>\n",
       "      <th>tweet_volume</th>\n",
       "    </tr>\n",
       "  </thead>\n",
       "  <tbody>\n",
       "    <tr>\n",
       "      <th>31</th>\n",
       "      <td>11</td>\n",
       "      <td>0.263000</td>\n",
       "      <td>0.023909</td>\n",
       "      <td>0.000000</td>\n",
       "      <td>0.000000</td>\n",
       "      <td>0.000000</td>\n",
       "      <td>0.000000</td>\n",
       "    </tr>\n",
       "    <tr>\n",
       "      <th>29</th>\n",
       "      <td>2047</td>\n",
       "      <td>306.952902</td>\n",
       "      <td>0.149953</td>\n",
       "      <td>0.011981</td>\n",
       "      <td>0.849515</td>\n",
       "      <td>0.109398</td>\n",
       "      <td>29000.192699</td>\n",
       "    </tr>\n",
       "    <tr>\n",
       "      <th>19</th>\n",
       "      <td>912</td>\n",
       "      <td>913.618340</td>\n",
       "      <td>1.001774</td>\n",
       "      <td>0.057718</td>\n",
       "      <td>0.844981</td>\n",
       "      <td>0.068175</td>\n",
       "      <td>50439.799543</td>\n",
       "    </tr>\n",
       "    <tr>\n",
       "      <th>25</th>\n",
       "      <td>3415</td>\n",
       "      <td>1900.834208</td>\n",
       "      <td>0.556613</td>\n",
       "      <td>0.100078</td>\n",
       "      <td>0.740466</td>\n",
       "      <td>0.130311</td>\n",
       "      <td>25400.236500</td>\n",
       "    </tr>\n",
       "    <tr>\n",
       "      <th>10</th>\n",
       "      <td>2254</td>\n",
       "      <td>11413.738545</td>\n",
       "      <td>5.063770</td>\n",
       "      <td>0.021524</td>\n",
       "      <td>0.859214</td>\n",
       "      <td>0.090136</td>\n",
       "      <td>21463.624594</td>\n",
       "    </tr>\n",
       "  </tbody>\n",
       "</table>\n",
       "</div>"
      ],
      "text/plain": [
       "    transaction_count        volume  average_sale  negative_score  \\\n",
       "31                 11      0.263000      0.023909        0.000000   \n",
       "29               2047    306.952902      0.149953        0.011981   \n",
       "19                912    913.618340      1.001774        0.057718   \n",
       "25               3415   1900.834208      0.556613        0.100078   \n",
       "10               2254  11413.738545      5.063770        0.021524   \n",
       "\n",
       "    neutral_score  positive_score  tweet_volume  \n",
       "31       0.000000        0.000000      0.000000  \n",
       "29       0.849515        0.109398  29000.192699  \n",
       "19       0.844981        0.068175  50439.799543  \n",
       "25       0.740466        0.130311  25400.236500  \n",
       "10       0.859214        0.090136  21463.624594  "
      ]
     },
     "execution_count": 211,
     "metadata": {},
     "output_type": "execute_result"
    }
   ],
   "source": [
    "x_train_combined.head()"
   ]
  },
  {
   "cell_type": "code",
   "execution_count": 212,
   "metadata": {},
   "outputs": [
    {
     "data": {
      "text/html": [
       "<div>\n",
       "<style scoped>\n",
       "    .dataframe tbody tr th:only-of-type {\n",
       "        vertical-align: middle;\n",
       "    }\n",
       "\n",
       "    .dataframe tbody tr th {\n",
       "        vertical-align: top;\n",
       "    }\n",
       "\n",
       "    .dataframe thead th {\n",
       "        text-align: right;\n",
       "    }\n",
       "</style>\n",
       "<table border=\"1\" class=\"dataframe\">\n",
       "  <thead>\n",
       "    <tr style=\"text-align: right;\">\n",
       "      <th></th>\n",
       "      <th>negative_score</th>\n",
       "      <th>neutral_score</th>\n",
       "      <th>positive_score</th>\n",
       "      <th>tweet_volume</th>\n",
       "    </tr>\n",
       "  </thead>\n",
       "  <tbody>\n",
       "    <tr>\n",
       "      <th>count</th>\n",
       "      <td>32.000000</td>\n",
       "      <td>32.000000</td>\n",
       "      <td>32.000000</td>\n",
       "      <td>3.200000e+01</td>\n",
       "    </tr>\n",
       "    <tr>\n",
       "      <th>mean</th>\n",
       "      <td>0.035962</td>\n",
       "      <td>0.759576</td>\n",
       "      <td>0.095935</td>\n",
       "      <td>1.956971e+05</td>\n",
       "    </tr>\n",
       "    <tr>\n",
       "      <th>std</th>\n",
       "      <td>0.040351</td>\n",
       "      <td>0.209104</td>\n",
       "      <td>0.058759</td>\n",
       "      <td>2.950293e+05</td>\n",
       "    </tr>\n",
       "    <tr>\n",
       "      <th>min</th>\n",
       "      <td>0.000000</td>\n",
       "      <td>0.000000</td>\n",
       "      <td>0.000000</td>\n",
       "      <td>0.000000e+00</td>\n",
       "    </tr>\n",
       "    <tr>\n",
       "      <th>25%</th>\n",
       "      <td>0.005990</td>\n",
       "      <td>0.754578</td>\n",
       "      <td>0.060584</td>\n",
       "      <td>5.268843e+03</td>\n",
       "    </tr>\n",
       "    <tr>\n",
       "      <th>50%</th>\n",
       "      <td>0.021218</td>\n",
       "      <td>0.815214</td>\n",
       "      <td>0.082558</td>\n",
       "      <td>2.914752e+04</td>\n",
       "    </tr>\n",
       "    <tr>\n",
       "      <th>75%</th>\n",
       "      <td>0.056802</td>\n",
       "      <td>0.851512</td>\n",
       "      <td>0.128672</td>\n",
       "      <td>3.590356e+05</td>\n",
       "    </tr>\n",
       "    <tr>\n",
       "      <th>max</th>\n",
       "      <td>0.153155</td>\n",
       "      <td>0.920835</td>\n",
       "      <td>0.237874</td>\n",
       "      <td>1.099450e+06</td>\n",
       "    </tr>\n",
       "  </tbody>\n",
       "</table>\n",
       "</div>"
      ],
      "text/plain": [
       "       negative_score  neutral_score  positive_score  tweet_volume\n",
       "count       32.000000      32.000000       32.000000  3.200000e+01\n",
       "mean         0.035962       0.759576        0.095935  1.956971e+05\n",
       "std          0.040351       0.209104        0.058759  2.950293e+05\n",
       "min          0.000000       0.000000        0.000000  0.000000e+00\n",
       "25%          0.005990       0.754578        0.060584  5.268843e+03\n",
       "50%          0.021218       0.815214        0.082558  2.914752e+04\n",
       "75%          0.056802       0.851512        0.128672  3.590356e+05\n",
       "max          0.153155       0.920835        0.237874  1.099450e+06"
      ]
     },
     "execution_count": 212,
     "metadata": {},
     "output_type": "execute_result"
    }
   ],
   "source": [
    "x_train_text.describe()"
   ]
  },
  {
   "cell_type": "markdown",
   "metadata": {},
   "source": [
    "## Running the Models"
   ]
  },
  {
   "cell_type": "markdown",
   "metadata": {},
   "source": [
    "## Text Data Only"
   ]
  },
  {
   "cell_type": "markdown",
   "metadata": {},
   "source": [
    "### Naive Bayes Prediction"
   ]
  },
  {
   "cell_type": "code",
   "execution_count": 213,
   "metadata": {},
   "outputs": [
    {
     "data": {
      "text/plain": [
       "1.0"
      ]
     },
     "execution_count": 213,
     "metadata": {},
     "output_type": "execute_result"
    }
   ],
   "source": [
    "predictNB(x_train_scaled_text, x_test_scaled_text, y_train_text, y_test_text)"
   ]
  },
  {
   "cell_type": "markdown",
   "metadata": {},
   "source": [
    "### SVM Model Prediction"
   ]
  },
  {
   "cell_type": "code",
   "execution_count": 214,
   "metadata": {},
   "outputs": [
    {
     "data": {
      "text/plain": [
       "0.75"
      ]
     },
     "execution_count": 214,
     "metadata": {},
     "output_type": "execute_result"
    }
   ],
   "source": [
    "predictSVM(x_train_scaled_text, x_test_scaled_text, y_train_text, y_test_text)"
   ]
  },
  {
   "cell_type": "markdown",
   "metadata": {},
   "source": [
    "### MLP Model Prediction"
   ]
  },
  {
   "cell_type": "code",
   "execution_count": 215,
   "metadata": {},
   "outputs": [
    {
     "data": {
      "image/png": "[encoded data removed]",
      "text/plain": [
       "<Figure size 432x288 with 1 Axes>"
      ]
     },
     "metadata": {
      "needs_background": "light"
     },
     "output_type": "display_data"
    },
    {
     "data": {
      "text/plain": [
       "0.75"
      ]
     },
     "execution_count": 215,
     "metadata": {},
     "output_type": "execute_result"
    }
   ],
   "source": [
    "predictMLP(x_train_scaled_text, x_test_scaled_text, y_train_text, y_test_text)"
   ]
  },
  {
   "cell_type": "markdown",
   "metadata": {},
   "source": [
    "## Price Data Only"
   ]
  },
  {
   "cell_type": "markdown",
   "metadata": {},
   "source": [
    "### Naive Bayes Prediction"
   ]
  },
  {
   "cell_type": "code",
   "execution_count": 216,
   "metadata": {},
   "outputs": [
    {
     "data": {
      "text/plain": [
       "0.625"
      ]
     },
     "execution_count": 216,
     "metadata": {},
     "output_type": "execute_result"
    }
   ],
   "source": [
    "predictNB(x_train_scaled_price, x_test_scaled_price, y_train_price, y_test_price)"
   ]
  },
  {
   "cell_type": "markdown",
   "metadata": {},
   "source": [
    "### SVM Model Prediction"
   ]
  },
  {
   "cell_type": "code",
   "execution_count": 217,
   "metadata": {},
   "outputs": [
    {
     "data": {
      "text/plain": [
       "1.0"
      ]
     },
     "execution_count": 217,
     "metadata": {},
     "output_type": "execute_result"
    }
   ],
   "source": [
    "predictSVM(x_train_scaled_price, x_test_scaled_price, y_train_price, y_test_price)"
   ]
  },
  {
   "cell_type": "markdown",
   "metadata": {},
   "source": [
    "### MLP Model Prediction"
   ]
  },
  {
   "cell_type": "code",
   "execution_count": 218,
   "metadata": {},
   "outputs": [
    {
     "data": {
      "image/png": "[encoded data removed]",
      "text/plain": [
       "<Figure size 432x288 with 1 Axes>"
      ]
     },
     "metadata": {
      "needs_background": "light"
     },
     "output_type": "display_data"
    },
    {
     "data": {
      "text/plain": [
       "1.0"
      ]
     },
     "execution_count": 218,
     "metadata": {},
     "output_type": "execute_result"
    }
   ],
   "source": [
    "predictMLP(x_train_scaled_price, x_test_scaled_price, y_train_price, y_test_price)"
   ]
  },
  {
   "cell_type": "markdown",
   "metadata": {},
   "source": [
    "## Price and Text Data"
   ]
  },
  {
   "cell_type": "markdown",
   "metadata": {},
   "source": [
    "### Naive Bayes Prediction"
   ]
  },
  {
   "cell_type": "code",
   "execution_count": 219,
   "metadata": {},
   "outputs": [
    {
     "data": {
      "text/plain": [
       "0.75"
      ]
     },
     "execution_count": 219,
     "metadata": {},
     "output_type": "execute_result"
    }
   ],
   "source": [
    "predictNB(x_train_scaled_combined, x_test_scaled_combined, y_train_combined, y_test_combined)"
   ]
  },
  {
   "cell_type": "markdown",
   "metadata": {},
   "source": [
    "### SVM Model Prediction"
   ]
  },
  {
   "cell_type": "code",
   "execution_count": 220,
   "metadata": {},
   "outputs": [
    {
     "data": {
      "text/plain": [
       "0.875"
      ]
     },
     "execution_count": 220,
     "metadata": {},
     "output_type": "execute_result"
    }
   ],
   "source": [
    "predictSVM(x_train_scaled_combined, x_test_scaled_combined, y_train_combined, y_test_combined)"
   ]
  },
  {
   "cell_type": "markdown",
   "metadata": {},
   "source": [
    "### MLP Model Prediction"
   ]
  },
  {
   "cell_type": "code",
   "execution_count": 221,
   "metadata": {},
   "outputs": [
    {
     "data": {
      "image/png": "[encoded data removed]",
      "text/plain": [
       "<Figure size 432x288 with 1 Axes>"
      ]
     },
     "metadata": {
      "needs_background": "light"
     },
     "output_type": "display_data"
    },
    {
     "data": {
      "text/plain": [
       "0.875"
      ]
     },
     "execution_count": 221,
     "metadata": {},
     "output_type": "execute_result"
    }
   ],
   "source": [
    "predictMLP(x_train_scaled_combined, x_test_scaled_combined, y_train_combined, y_test_combined)"
   ]
  }
 ],
 "metadata": {
  "interpreter": {
   "hash": "916dbcbb3f70747c44a77c7bcd40155683ae19c65e1c03b4aa3499c5328201f1"
  },
  "kernelspec": {
   "display_name": "Python 3",
   "language": "python",
   "name": "python3"
  },
  "language_info": {
   "codemirror_mode": {
    "name": "ipython",
    "version": 3
   },
   "file_extension": ".py",
   "mimetype": "text/x-python",
   "name": "python",
   "nbconvert_exporter": "python",
   "pygments_lexer": "ipython3",
   "version": "3.7.4"
  }
 },
 "nbformat": 4,
 "nbformat_minor": 2
}
